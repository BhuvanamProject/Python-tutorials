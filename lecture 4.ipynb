{
 "cells": [
  {
   "cell_type": "code",
   "execution_count": 1,
   "metadata": {},
   "outputs": [
    {
     "name": "stdout",
     "output_type": "stream",
     "text": [
      "1 2\n",
      "3 4\n",
      "5 6\n"
     ]
    }
   ],
   "source": [
    "# unpacking and for loop\n",
    "\n",
    "l = [(1,2),(3,4),(5,6)]\n",
    "\n",
    "for x,y in l:\n",
    "    print(x, y)"
   ]
  },
  {
   "cell_type": "code",
   "execution_count": 27,
   "metadata": {},
   "outputs": [
    {
     "name": "stdout",
     "output_type": "stream",
     "text": [
      "<class 'int'>\n"
     ]
    }
   ],
   "source": [
    "x = 3\n",
    "print(type(x))"
   ]
  },
  {
   "cell_type": "markdown",
   "metadata": {},
   "source": [
    "# functions"
   ]
  },
  {
   "cell_type": "markdown",
   "metadata": {},
   "source": [
    "1. why functons\n",
    "2. returning and passing parameters\n",
    "3. classes how to use"
   ]
  },
  {
   "cell_type": "code",
   "execution_count": 1,
   "metadata": {},
   "outputs": [
    {
     "name": "stdout",
     "output_type": "stream",
     "text": [
      "python\n"
     ]
    }
   ],
   "source": [
    "print('python')"
   ]
  },
  {
   "cell_type": "code",
   "execution_count": 2,
   "metadata": {},
   "outputs": [],
   "source": [
    "# decleration\n",
    "\n",
    "def funtion_name():\n",
    "    print('python')"
   ]
  },
  {
   "cell_type": "code",
   "execution_count": 4,
   "metadata": {},
   "outputs": [
    {
     "name": "stdout",
     "output_type": "stream",
     "text": [
      "python\n",
      "python\n",
      "python\n"
     ]
    }
   ],
   "source": [
    "# calling the function\n",
    "funtion_name()\n",
    "funtion_name()\n",
    "funtion_name()\n",
    "# can call it again, reduce code"
   ]
  },
  {
   "cell_type": "code",
   "execution_count": 5,
   "metadata": {},
   "outputs": [
    {
     "name": "stdout",
     "output_type": "stream",
     "text": [
      "enter x : 1\n",
      "enter y : 2\n",
      "3\n"
     ]
    }
   ],
   "source": [
    "# 4 ways of using functions\n",
    "\n",
    "def f1():\n",
    "    x = int(input('enter x : '))\n",
    "    y = int(input('enter y : '))\n",
    "    print(x + y)\n",
    "    \n",
    "f1()"
   ]
  },
  {
   "cell_type": "code",
   "execution_count": 6,
   "metadata": {},
   "outputs": [
    {
     "name": "stdout",
     "output_type": "stream",
     "text": [
      "5\n",
      "3\n"
     ]
    }
   ],
   "source": [
    "# passing arguments\n",
    "# difference between arguments and parameters\n",
    "\n",
    "def f2(x,y):\n",
    "    print(x+y)\n",
    "    \n",
    "f2(2,3)\n",
    "f2(1,2)"
   ]
  },
  {
   "cell_type": "code",
   "execution_count": 7,
   "metadata": {},
   "outputs": [
    {
     "name": "stdout",
     "output_type": "stream",
     "text": [
      "enter x : 1\n",
      "enter y : 2\n",
      "3\n"
     ]
    }
   ],
   "source": [
    "def f3():\n",
    "    x = int(input('enter x : '))\n",
    "    y = int(input('enter y : '))\n",
    "    return x + y\n",
    "\n",
    "res = f3()\n",
    "print(res)"
   ]
  },
  {
   "cell_type": "code",
   "execution_count": 10,
   "metadata": {},
   "outputs": [
    {
     "name": "stdout",
     "output_type": "stream",
     "text": [
      "5\n"
     ]
    }
   ],
   "source": [
    "# return \n",
    "\n",
    "def f4(x,y):\n",
    "    z = x + y\n",
    "    return z # return x + y\n",
    "\n",
    "res = f4(2,3)\n",
    "print(res) # print(f4(2,3))"
   ]
  },
  {
   "cell_type": "markdown",
   "metadata": {},
   "source": [
    "## recursion"
   ]
  },
  {
   "cell_type": "code",
   "execution_count": 11,
   "metadata": {},
   "outputs": [
    {
     "name": "stdout",
     "output_type": "stream",
     "text": [
      "python\n",
      "python\n",
      "python\n",
      "python\n",
      "python\n",
      "python\n",
      "python\n",
      "python\n",
      "python\n",
      "python\n",
      "python\n"
     ]
    }
   ],
   "source": [
    "def print_python(i):\n",
    "    print('python')\n",
    "    if i<10:\n",
    "        return print_python(i+1)\n",
    "    \n",
    "print_python(0) # can be done using loops"
   ]
  },
  {
   "cell_type": "markdown",
   "metadata": {},
   "source": [
    "# assignments\n",
    "\n",
    "1. hcf and lcm of given list of numbers (lcm = a*b/hcf)\n",
    "2. factorial using recursion\n",
    "3. factorial, permutation, combination of given n,r\n",
    "4. given random signal obtain its frequency by which it is made"
   ]
  },
  {
   "cell_type": "markdown",
   "metadata": {},
   "source": [
    "## list and dictionay comperension"
   ]
  },
  {
   "cell_type": "code",
   "execution_count": 12,
   "metadata": {},
   "outputs": [
    {
     "name": "stdout",
     "output_type": "stream",
     "text": [
      "[0, 1, 2, 3, 4, 5, 6, 7, 8, 9]\n"
     ]
    }
   ],
   "source": [
    "x = [i for i in range(0,10)]\n",
    "print(x)"
   ]
  },
  {
   "cell_type": "code",
   "execution_count": 13,
   "metadata": {},
   "outputs": [
    {
     "name": "stdout",
     "output_type": "stream",
     "text": [
      "[0, 2, 4, 6, 8]\n"
     ]
    }
   ],
   "source": [
    "x = [i for i in range(0,10) if i % 2 == 0]\n",
    "print(x)"
   ]
  },
  {
   "cell_type": "code",
   "execution_count": 14,
   "metadata": {},
   "outputs": [
    {
     "name": "stdout",
     "output_type": "stream",
     "text": [
      "{'a': 1, 'b': 2, 'c': 3}\n"
     ]
    }
   ],
   "source": [
    "d = {key:value for (key,value) in [('a', 1),('b',2),('c',3)]}\n",
    "print(d)"
   ]
  },
  {
   "cell_type": "markdown",
   "metadata": {},
   "source": [
    "# class"
   ]
  },
  {
   "cell_type": "code",
   "execution_count": 14,
   "metadata": {},
   "outputs": [],
   "source": [
    "# syntax\n",
    "\n",
    "class C1:\n",
    "    def __init__(self): # why self\n",
    "        pass\n",
    "    def fun1(self):\n",
    "        pass\n",
    "    def fun2(self):\n",
    "        pass"
   ]
  },
  {
   "cell_type": "code",
   "execution_count": null,
   "metadata": {},
   "outputs": [],
   "source": [
    "# method and function"
   ]
  },
  {
   "cell_type": "code",
   "execution_count": 16,
   "metadata": {},
   "outputs": [],
   "source": [
    "class Car():\n",
    "    \n",
    "    number_of_wheels = 4 # class variable\n",
    "    \n",
    "    def __init__(self,m,c,s): # init\n",
    "        self.milage = m # variables\n",
    "        self.company = c\n",
    "        self.seats = s\n",
    "        self.roof = True\n",
    "        \n",
    "    def engine(self,number_of_strokes,bore_length): \n",
    "        efficiency = number_of_strokes * bore_length * self.seats\n",
    "        return efficiency\n",
    "    \n",
    "    def set_milage(self,new): # 3types of functions\n",
    "        self.milage = new\n",
    "        \n",
    "    def get_milage(self):\n",
    "        return self.milage\n",
    "    \n",
    "    @staticmethod\n",
    "    def is_compactable(volume): # volume of car\n",
    "        if volume > 100:\n",
    "            print('is compactable')\n",
    "            return True\n",
    "        return False\n",
    "            \n",
    "    @classmethod\n",
    "    def print_wheels(cls):\n",
    "        return cls.number_of_wheels # using class variables"
   ]
  },
  {
   "cell_type": "code",
   "execution_count": 17,
   "metadata": {},
   "outputs": [],
   "source": [
    "Q8 = Car(65,'audi',4)\n",
    "reva = Car(30,'reva', 2)"
   ]
  },
  {
   "cell_type": "code",
   "execution_count": 18,
   "metadata": {},
   "outputs": [
    {
     "name": "stdout",
     "output_type": "stream",
     "text": [
      "4\n"
     ]
    }
   ],
   "source": [
    "print(Q8.number_of_wheels) # static variable"
   ]
  },
  {
   "cell_type": "code",
   "execution_count": 19,
   "metadata": {},
   "outputs": [
    {
     "name": "stdout",
     "output_type": "stream",
     "text": [
      "30\n"
     ]
    }
   ],
   "source": [
    "print(reva.milage) # instance variables"
   ]
  },
  {
   "cell_type": "code",
   "execution_count": 20,
   "metadata": {},
   "outputs": [
    {
     "name": "stdout",
     "output_type": "stream",
     "text": [
      "80\n"
     ]
    }
   ],
   "source": [
    "val = reva.engine(4,10) # intance method\n",
    "print(val)"
   ]
  },
  {
   "cell_type": "code",
   "execution_count": 22,
   "metadata": {},
   "outputs": [
    {
     "name": "stdout",
     "output_type": "stream",
     "text": [
      "40\n"
     ]
    }
   ],
   "source": [
    "reva.milage = 40\n",
    "print(reva.milage)"
   ]
  },
  {
   "cell_type": "code",
   "execution_count": 23,
   "metadata": {},
   "outputs": [
    {
     "name": "stdout",
     "output_type": "stream",
     "text": [
      "40\n",
      "50\n"
     ]
    }
   ],
   "source": [
    "print(reva.milage) # setter\n",
    "reva.set_milage(50)\n",
    "print(reva.milage)"
   ]
  },
  {
   "cell_type": "code",
   "execution_count": 24,
   "metadata": {},
   "outputs": [
    {
     "name": "stdout",
     "output_type": "stream",
     "text": [
      "65\n"
     ]
    }
   ],
   "source": [
    "print(Q8.get_milage()) # getter"
   ]
  },
  {
   "cell_type": "code",
   "execution_count": 25,
   "metadata": {},
   "outputs": [
    {
     "name": "stdout",
     "output_type": "stream",
     "text": [
      "is compactable\n",
      "True\n"
     ]
    }
   ],
   "source": [
    "print(reva.is_compactable(1000)) # static method"
   ]
  },
  {
   "cell_type": "code",
   "execution_count": 26,
   "metadata": {},
   "outputs": [
    {
     "name": "stdout",
     "output_type": "stream",
     "text": [
      "4\n"
     ]
    }
   ],
   "source": [
    "print(Q8.print_wheels()) # class method"
   ]
  },
  {
   "cell_type": "markdown",
   "metadata": {},
   "source": [
    "# assignments\n",
    "\n",
    "1]student data base :- store each person as object and calculate marks of three internals , scale it to 40% and add it to final exam marks(60%)\n",
    "\n",
    "2]car details(as above with more funtions to calculate max speed,how much time it takes the car to stop when applied breaks etc)\n",
    "\n",
    "3]hospital data base\n",
    "\n",
    "4]trains tracking system(if accidents then what need to be done)\n",
    "\n",
    "note: use as many methods as possible"
   ]
  },
  {
   "cell_type": "code",
   "execution_count": null,
   "metadata": {},
   "outputs": [],
   "source": []
  }
 ],
 "metadata": {
  "kernelspec": {
   "display_name": "Python 3",
   "language": "python",
   "name": "python3"
  },
  "language_info": {
   "codemirror_mode": {
    "name": "ipython",
    "version": 3
   },
   "file_extension": ".py",
   "mimetype": "text/x-python",
   "name": "python",
   "nbconvert_exporter": "python",
   "pygments_lexer": "ipython3",
   "version": "3.7.0"
  }
 },
 "nbformat": 4,
 "nbformat_minor": 4
}
