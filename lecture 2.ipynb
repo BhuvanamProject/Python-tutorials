{
 "cells": [
  {
   "cell_type": "markdown",
   "metadata": {},
   "source": [
    "# DATATYPES\n",
    "\n",
    "lists, dictonary, set, tuples, int, float, string, bool, range"
   ]
  },
  {
   "cell_type": "markdown",
   "metadata": {},
   "source": [
    "## What you need to take away from this lecture\n",
    "\n",
    "1. declaration\n",
    "2. how to access different parts of some datatypes\n",
    "3. use of functions\n",
    "4. differences between different datatypes\n",
    "5. what problems can you face with some datatypes and how to overcome it"
   ]
  },
  {
   "cell_type": "code",
   "execution_count": 1,
   "metadata": {},
   "outputs": [
    {
     "name": "stdout",
     "output_type": "stream",
     "text": [
      "python 1 0.2 True None\n"
     ]
    }
   ],
   "source": [
    "# basic datatypes\n",
    "\n",
    "string = 'python'\n",
    "integer = 1\n",
    "floating_number = 0.2\n",
    "boolean = True # or False # space occupied\n",
    "nul = None\n",
    "\n",
    "print(string,integer,floating_number,boolean,nul)"
   ]
  },
  {
   "cell_type": "markdown",
   "metadata": {},
   "source": [
    "## strings"
   ]
  },
  {
   "cell_type": "code",
   "execution_count": 2,
   "metadata": {},
   "outputs": [
    {
     "name": "stdout",
     "output_type": "stream",
     "text": [
      "anything inside quotes\n"
     ]
    }
   ],
   "source": [
    "# strings\n",
    "\n",
    "string = 'anything inside quotes'\n",
    "print(string)"
   ]
  },
  {
   "cell_type": "code",
   "execution_count": 50,
   "metadata": {},
   "outputs": [
    {
     "ename": "SyntaxError",
     "evalue": "invalid syntax (<ipython-input-50-afa1564658b4>, line 3)",
     "output_type": "error",
     "traceback": [
      "\u001b[1;36m  File \u001b[1;32m\"<ipython-input-50-afa1564658b4>\"\u001b[1;36m, line \u001b[1;32m3\u001b[0m\n\u001b[1;33m    s = 'it is python's library'\u001b[0m\n\u001b[1;37m                      ^\u001b[0m\n\u001b[1;31mSyntaxError\u001b[0m\u001b[1;31m:\u001b[0m invalid syntax\n"
     ]
    }
   ],
   "source": [
    "# problems when handling strings\n",
    "\n",
    "s = 'it is python's library' \n",
    "s = \"it is said that \"he is a good man\" by someone\"  # how to overcome "
   ]
  },
  {
   "cell_type": "code",
   "execution_count": 3,
   "metadata": {},
   "outputs": [
    {
     "name": "stdout",
     "output_type": "stream",
     "text": [
      "p t\n",
      "y\n",
      "hon i\n"
     ]
    }
   ],
   "source": [
    "# access part of sting\n",
    "s = 'python is easy'\n",
    "\n",
    "print(s[0],s[2])\n",
    "print(s[-1])\n",
    "print(s[3:8])"
   ]
  },
  {
   "cell_type": "code",
   "execution_count": 4,
   "metadata": {},
   "outputs": [
    {
     "name": "stdout",
     "output_type": "stream",
     "text": [
      "python python\n"
     ]
    }
   ],
   "source": [
    "# copy string\n",
    "\n",
    "s1 = 'python'\n",
    "s2 = s1\n",
    "print(s1,s2)"
   ]
  },
  {
   "cell_type": "code",
   "execution_count": null,
   "metadata": {},
   "outputs": [],
   "source": [
    "# string methods\n",
    "\n",
    "# why? it is fast"
   ]
  },
  {
   "cell_type": "code",
   "execution_count": 7,
   "metadata": {},
   "outputs": [
    {
     "name": "stdout",
     "output_type": "stream",
     "text": [
      "python is easy\n",
      "python is easypython is easypython is easypython is easypython is easypython is easypython is easypython is easypython is easypython is easy\n"
     ]
    }
   ],
   "source": [
    "# string concate and multipy\n",
    "s1 = 'python'\n",
    "s2 = 'is easy'\n",
    "\n",
    "s = s1 + ' ' + s2\n",
    "print(s)\n",
    "print(s * 10)"
   ]
  },
  {
   "cell_type": "code",
   "execution_count": 8,
   "metadata": {},
   "outputs": [
    {
     "name": "stdout",
     "output_type": "stream",
     "text": [
      "['this', 'is', 'my', 'python', 'jupyter', 'notebook', 'which', 'is', 'used', 'to', 'write', 'python', 'code.']\n",
      "['th', 's ', 's my python jupyter notebook wh', 'ch ', 's used to wr', 'te python code.']\n"
     ]
    }
   ],
   "source": [
    "# split\n",
    "\n",
    "s = 'this is my python jupyter notebook which is used to write python code.'\n",
    "list1 = s.split()\n",
    "list2 = s.split('i') # good to use when we have a paragraph and want to divide into sentences\n",
    "print(list1)\n",
    "print(list2)"
   ]
  },
  {
   "cell_type": "code",
   "execution_count": 9,
   "metadata": {},
   "outputs": [
    {
     "name": "stdout",
     "output_type": "stream",
     "text": [
      "6\n"
     ]
    }
   ],
   "source": [
    "# length of string\n",
    "\n",
    "s = 'python'\n",
    "length = len(s)\n",
    "print(length)"
   ]
  },
  {
   "cell_type": "code",
   "execution_count": 10,
   "metadata": {},
   "outputs": [
    {
     "name": "stdout",
     "output_type": "stream",
     "text": [
      "PYTHON\n",
      "python\n"
     ]
    }
   ],
   "source": [
    "# upper case and lower case\n",
    "\n",
    "s = 'python'\n",
    "s_upper = s.upper()\n",
    "print(s_upper)\n",
    "\n",
    "s_lower = s_upper.lower()\n",
    "print(s_lower)"
   ]
  },
  {
   "cell_type": "code",
   "execution_count": 11,
   "metadata": {},
   "outputs": [
    {
     "name": "stdout",
     "output_type": "stream",
     "text": [
      "1 0 -1\n"
     ]
    }
   ],
   "source": [
    "# find a character or string\n",
    "\n",
    "s = \"python is easy.\"\n",
    "y = s.find('y') # gives output where it finds first\n",
    "python = s.find('python')\n",
    "not_found = s.find('r') # output = -1\n",
    "\n",
    "print(y, python, not_found)"
   ]
  },
  {
   "cell_type": "code",
   "execution_count": 12,
   "metadata": {},
   "outputs": [
    {
     "name": "stdout",
     "output_type": "stream",
     "text": [
      "python is easy. prthon is easr. python is slow.\n"
     ]
    }
   ],
   "source": [
    "# replace string or character\n",
    "\n",
    "s = \"python is easy.\"\n",
    "s1 = s.replace('y', 'r') # replaces everywhere\n",
    "s2 = s.replace('easy', 'slow')\n",
    "\n",
    "print(s,s1,s2)"
   ]
  },
  {
   "cell_type": "code",
   "execution_count": 13,
   "metadata": {},
   "outputs": [
    {
     "name": "stdout",
     "output_type": "stream",
     "text": [
      "True\n"
     ]
    }
   ],
   "source": [
    "# in keyword\n",
    "\n",
    "s = \"python is easy.\"\n",
    "print('python' in s) # check character or string"
   ]
  },
  {
   "cell_type": "markdown",
   "metadata": {},
   "source": [
    "## operations"
   ]
  },
  {
   "cell_type": "code",
   "execution_count": 60,
   "metadata": {},
   "outputs": [
    {
     "name": "stdout",
     "output_type": "stream",
     "text": [
      "19\n",
      "1\n",
      "90\n",
      "1.1111111111111112\n",
      "1\n",
      "1\n",
      "1000000000\n"
     ]
    }
   ],
   "source": [
    "# arithematic operations\n",
    "\n",
    "num1 = 10\n",
    "num2 = 9\n",
    "\n",
    "print(num1+num2)\n",
    "print(num1-num2)\n",
    "print(num1*num2)\n",
    "print(num1/num2)\n",
    "print(num1//num2) # quotient\n",
    "print(num1%num2)\n",
    "print(num1**num2) # power"
   ]
  },
  {
   "cell_type": "code",
   "execution_count": 14,
   "metadata": {},
   "outputs": [
    {
     "name": "stdout",
     "output_type": "stream",
     "text": [
      "10\n",
      "12\n",
      "8\n"
     ]
    }
   ],
   "source": [
    "# augmented operators\n",
    "\n",
    "num = 10\n",
    "print(num)\n",
    "\n",
    "num += 2 # num = num + 2\n",
    "print(num)\n",
    "\n",
    "num -= 4\n",
    "print(num)"
   ]
  },
  {
   "cell_type": "code",
   "execution_count": 15,
   "metadata": {},
   "outputs": [
    {
     "name": "stdout",
     "output_type": "stream",
     "text": [
      "11.125 2.375\n"
     ]
    }
   ],
   "source": [
    "# precedence\n",
    "\n",
    "num1 = 10\n",
    "num2 = 9\n",
    "num3 = 8\n",
    "\n",
    "number1 = num1 + num2 / num3\n",
    "number2 = (num1 + num2) / num3\n",
    "print(number1,number2)\n",
    "\n",
    "# (), **, *, /, +, -"
   ]
  },
  {
   "cell_type": "code",
   "execution_count": 16,
   "metadata": {},
   "outputs": [
    {
     "name": "stdout",
     "output_type": "stream",
     "text": [
      "1048590 23\n"
     ]
    }
   ],
   "source": [
    "# examples\n",
    "\n",
    "x = 2*2+4**10+10\n",
    "y = 2 +10 +True +10 +False # true = 1, false = 0\n",
    "\n",
    "print(x,y)"
   ]
  },
  {
   "cell_type": "markdown",
   "metadata": {},
   "source": [
    "## math library"
   ]
  },
  {
   "cell_type": "code",
   "execution_count": 17,
   "metadata": {},
   "outputs": [],
   "source": [
    "# math functions\n",
    "import math"
   ]
  },
  {
   "cell_type": "code",
   "execution_count": 18,
   "metadata": {},
   "outputs": [
    {
     "name": "stdout",
     "output_type": "stream",
     "text": [
      "3\n",
      "2.9\n",
      "3\n",
      "2\n",
      "1.70293863659264\n",
      "24.389\n",
      "0.23924932921398243\n",
      "-0.9709581651495905\n",
      "-0.24640539397196634\n",
      "6\n",
      "1\n",
      "21\n"
     ]
    }
   ],
   "source": [
    "num = 2.9\n",
    "\n",
    "print(round(num))\n",
    "print(abs(-num))\n",
    "print(math.ceil(num))\n",
    "print(math.floor(num))\n",
    "print(math.sqrt(num))\n",
    "print(math.pow(num,3))\n",
    "print(math.sin(num))\n",
    "print(math.cos(num))\n",
    "print(math.tan(num))\n",
    "print(max([1,2,3,4,5,6]))\n",
    "print(min([1,2,3,4,5,6]))\n",
    "print(sum([1,2,3,4,5,6]))"
   ]
  },
  {
   "cell_type": "markdown",
   "metadata": {},
   "source": [
    "# Assignments\n",
    "\n",
    "1.input(string) radius and calculate area of circle,volume of sphere\n",
    "\n",
    "2.input(2 numbers seperated by space radius and height) to calculate volume of cylinder. and then volume of cone,\n",
    "slant height of cone\n",
    "\n",
    "3.given a vector pointing to (5,5) and angle with horizontal axis calculate length, horizontal component and vertical \n",
    "component.note: all inputs in same string seperated by comma\n",
    "check if the points are (0,0), if so print error"
   ]
  },
  {
   "cell_type": "markdown",
   "metadata": {},
   "source": [
    "## lists"
   ]
  },
  {
   "cell_type": "code",
   "execution_count": 19,
   "metadata": {},
   "outputs": [
    {
     "name": "stdout",
     "output_type": "stream",
     "text": [
      "[1, 2, 3, 4, 5, 6] ['this', 'is', 'pyhon', 3.4] [[1, 2], [3, 4]] [[[1, 2], [3, 4]]]\n"
     ]
    }
   ],
   "source": [
    "# lists\n",
    "\n",
    "# assignment\n",
    "# different datatypes, length can be different\n",
    "\n",
    "l1 = [1,2,3,4,5,6]\n",
    "l2 = ['this', 'is', 'pyhon', 3.4]\n",
    "l3 = [\n",
    "    [1,2],\n",
    "    [3,4]\n",
    "]\n",
    "l4 = [\n",
    "    [[1,2],\n",
    "    [3,4]]\n",
    "]\n",
    "print(l1,l2,l3,l4)"
   ]
  },
  {
   "cell_type": "code",
   "execution_count": 21,
   "metadata": {},
   "outputs": [
    {
     "name": "stdout",
     "output_type": "stream",
     "text": [
      "5\n",
      "10\n",
      "[1, 2, 3, 4, 5, 6, 7, 8, 9, 10]\n",
      "[4, 5, 6, 7]\n",
      "[5, 6, 7, 8, 9]\n",
      "[3, 4, 5, 6, 7]\n"
     ]
    }
   ],
   "source": [
    "# access\n",
    "\n",
    "l1 = [1,2,3,4,5,6,7,8,9,10]\n",
    "\n",
    "print(l1[4])\n",
    "print(l1[-1])\n",
    "print(l1[:])\n",
    "print(l1[3:7])\n",
    "print(l1[4:-1])\n",
    "print(l1[-8:-3])"
   ]
  },
  {
   "cell_type": "code",
   "execution_count": 20,
   "metadata": {},
   "outputs": [
    {
     "name": "stdout",
     "output_type": "stream",
     "text": [
      "[[1, 2, 10, 4], [6, 7, 8, 9]]\n"
     ]
    }
   ],
   "source": [
    "# change values\n",
    "\n",
    "l = [\n",
    "    [1,2,3,4],\n",
    "    [1,3,456,74]\n",
    "]\n",
    "\n",
    "l[0][2] = 10\n",
    "l[1] = [6,7,8,9]\n",
    "\n",
    "print(l)"
   ]
  },
  {
   "cell_type": "code",
   "execution_count": 22,
   "metadata": {},
   "outputs": [
    {
     "name": "stdout",
     "output_type": "stream",
     "text": [
      "55\n",
      "[6, 7, 8, 9, 10]\n",
      "[6, 7, 8, 9, 10]\n",
      "[[1, 2, 3, 4, 5], [11, 22, 33, 44, 55], [6, 7, 8, 9, 10]]\n",
      "[6, 7, 8, 9, 10]\n",
      "[7, 8]\n",
      "[[11, 22, 33, 44, 55]]\n"
     ]
    }
   ],
   "source": [
    "l2 = [\n",
    "    [1,2,3,4,5],\n",
    "    [11,22,33,44,55],\n",
    "    [6,7,8,9,10]\n",
    "]\n",
    "\n",
    "print(l2[1][4])\n",
    "print(l2[2])\n",
    "print(l2[2][:])\n",
    "print(l2)\n",
    "print(l2[:][2])\n",
    "print(l2[2][1:3])\n",
    "print(l2[0:2][1:3])"
   ]
  },
  {
   "cell_type": "code",
   "execution_count": 23,
   "metadata": {},
   "outputs": [
    {
     "name": "stdout",
     "output_type": "stream",
     "text": [
      "None\n",
      "None\n",
      "None\n",
      "None\n",
      "10\n",
      "5\n",
      "True False\n"
     ]
    }
   ],
   "source": [
    "# list functions\n",
    "\n",
    "l = [1,2,3,4,5,6]\n",
    "\n",
    "length = len(l)\n",
    "l1 = l.append(10)\n",
    "l2 = l.insert(2,'hello')\n",
    "l3 = l.remove(4)\n",
    "l5 = l.pop()\n",
    "l6 = l.index(6)\n",
    "val1 = 1 in l\n",
    "val2 = -1 in l\n",
    "l4 = l.clear() # remove all elements\n",
    "\n",
    "\n",
    "# count sort reverse copy\n",
    "\n",
    "\n",
    "print(l1)\n",
    "print(l2)\n",
    "print(l3)\n",
    "print(l4)\n",
    "print(l5)\n",
    "print(l6)\n",
    "print(val1,val2)"
   ]
  },
  {
   "cell_type": "markdown",
   "metadata": {},
   "source": [
    "## tuples"
   ]
  },
  {
   "cell_type": "code",
   "execution_count": 24,
   "metadata": {},
   "outputs": [
    {
     "name": "stdout",
     "output_type": "stream",
     "text": [
      "(1, 2, 3, 4, 5, 6)\n",
      "4\n"
     ]
    }
   ],
   "source": [
    "# tuples\n",
    "\n",
    "t = (1,2,3,4,5,6)\n",
    "\n",
    "print(t)\n",
    "print(t[3])"
   ]
  },
  {
   "cell_type": "code",
   "execution_count": 25,
   "metadata": {},
   "outputs": [
    {
     "name": "stdout",
     "output_type": "stream",
     "text": [
      "((1, 2, 3, 4), (6, 7, 8, 9))\n",
      "9\n"
     ]
    }
   ],
   "source": [
    "# access\n",
    "\n",
    "t = (\n",
    "    (1,2,3,4),\n",
    "    (6,7,8,9)\n",
    ")\n",
    "\n",
    "print(t[:])\n",
    "print(t[1][3]) # similar to array"
   ]
  },
  {
   "cell_type": "code",
   "execution_count": 26,
   "metadata": {},
   "outputs": [
    {
     "ename": "TypeError",
     "evalue": "'tuple' object does not support item assignment",
     "output_type": "error",
     "traceback": [
      "\u001b[1;31m---------------------------------------------------------------------------\u001b[0m",
      "\u001b[1;31mTypeError\u001b[0m                                 Traceback (most recent call last)",
      "\u001b[1;32m<ipython-input-26-bd394ae53684>\u001b[0m in \u001b[0;36m<module>\u001b[1;34m\u001b[0m\n\u001b[0;32m      3\u001b[0m \u001b[0mt\u001b[0m \u001b[1;33m=\u001b[0m \u001b[1;33m(\u001b[0m\u001b[1;36m1\u001b[0m\u001b[1;33m,\u001b[0m\u001b[1;36m2\u001b[0m\u001b[1;33m,\u001b[0m\u001b[1;36m3\u001b[0m\u001b[1;33m,\u001b[0m\u001b[1;36m4\u001b[0m\u001b[1;33m)\u001b[0m\u001b[1;33m\u001b[0m\u001b[0m\n\u001b[0;32m      4\u001b[0m \u001b[1;33m\u001b[0m\u001b[0m\n\u001b[1;32m----> 5\u001b[1;33m \u001b[0mt\u001b[0m\u001b[1;33m[\u001b[0m\u001b[1;36m2\u001b[0m\u001b[1;33m]\u001b[0m \u001b[1;33m=\u001b[0m \u001b[1;36m10\u001b[0m\u001b[1;33m\u001b[0m\u001b[0m\n\u001b[0m",
      "\u001b[1;31mTypeError\u001b[0m: 'tuple' object does not support item assignment"
     ]
    }
   ],
   "source": [
    "# update\n",
    "\n",
    "t = (1,2,3,4)\n",
    "\n",
    "t[2] = 10"
   ]
  },
  {
   "cell_type": "code",
   "execution_count": 27,
   "metadata": {},
   "outputs": [
    {
     "name": "stdout",
     "output_type": "stream",
     "text": [
      "4 0 2\n"
     ]
    }
   ],
   "source": [
    "# tuple functions\n",
    "\n",
    "t = (1,2,3,4)\n",
    "\n",
    "length = len(t)\n",
    "t1 = t.count(0) # occurence\n",
    "index = t.index(3)\n",
    "\n",
    "print(length,t1,index)"
   ]
  },
  {
   "cell_type": "code",
   "execution_count": 28,
   "metadata": {},
   "outputs": [
    {
     "name": "stdout",
     "output_type": "stream",
     "text": [
      "2 3 4 1\n"
     ]
    }
   ],
   "source": [
    "# tuples unpacking\n",
    "\n",
    "t = (1,2,3,4)\n",
    "\n",
    "w,x,y,z = t\n",
    "\n",
    "print(x,y,z,w)"
   ]
  },
  {
   "cell_type": "markdown",
   "metadata": {},
   "source": [
    "## dictionary"
   ]
  },
  {
   "cell_type": "code",
   "execution_count": 29,
   "metadata": {},
   "outputs": [
    {
     "name": "stdout",
     "output_type": "stream",
     "text": [
      "{'key1': 'value1', 'k2': 10, 10: '4.9'}\n"
     ]
    }
   ],
   "source": [
    "# dictionary\n",
    "\n",
    "# A dictionary is a collection which is unordered, changeable and indexed. \n",
    "# In Python dictionaries are written with curly brackets, and they have keys and values.\n",
    "\n",
    "d = {\n",
    "    'key1' : 'value1',\n",
    "    'k2' : 10,\n",
    "    10 : '4.9'\n",
    "}\n",
    "\n",
    "print(d)"
   ]
  },
  {
   "cell_type": "code",
   "execution_count": 30,
   "metadata": {},
   "outputs": [
    {
     "name": "stdout",
     "output_type": "stream",
     "text": [
      "10\n"
     ]
    }
   ],
   "source": [
    "# accessing values\n",
    "\n",
    "print(d['k2'])"
   ]
  },
  {
   "cell_type": "code",
   "execution_count": 1,
   "metadata": {},
   "outputs": [
    {
     "name": "stdout",
     "output_type": "stream",
     "text": [
      "{'key1': 'value1', 'key2': 'value2'}\n",
      "{'key1': 'value1', 'key2': 'value2', 'key3': 'value3'}\n"
     ]
    }
   ],
   "source": [
    "# changing values\n",
    "\n",
    "d = {\n",
    "    'key1': 'value1','key2' : 'value1'\n",
    "}\n",
    "\n",
    "d['key2'] = 'value2'\n",
    "\n",
    "print(d)\n",
    "\n",
    "\n",
    "# adding key value to a dictionary\n",
    "\n",
    "d['key3'] = 'value3'\n",
    "\n",
    "print(d)"
   ]
  },
  {
   "cell_type": "code",
   "execution_count": 31,
   "metadata": {},
   "outputs": [
    {
     "name": "stdout",
     "output_type": "stream",
     "text": [
      "value1\n",
      "value1\n"
     ]
    }
   ],
   "source": [
    "# Note : values can repeat, but keys can't\n",
    "\n",
    "d = {\n",
    "    'key1': 'value1','key2' : 'value1'\n",
    "}\n",
    "\n",
    "print(d['key1'])\n",
    "print(d['key2']) "
   ]
  },
  {
   "cell_type": "code",
   "execution_count": 32,
   "metadata": {
    "tags": [
     "check"
    ]
   },
   "outputs": [
    {
     "name": "stdout",
     "output_type": "stream",
     "text": [
      "dict_keys(['key1', 'key2'])\n",
      "dict_values(['value1', 'value2'])\n",
      "value2\n",
      "None\n",
      "{'key1': 'value3', 'key2': 'value2'}\n",
      "{'key1': 'value3', 'key2': 'value2', 'key3': 'value4'}\n"
     ]
    }
   ],
   "source": [
    "# dictionay - built in functions\n",
    "\n",
    "d = {\n",
    "    'key1': 'value1','key2' : 'value2'\n",
    "}\n",
    "\n",
    "\n",
    "print(d.keys())\n",
    "print(d.values())\n",
    "print(d.get('key2','value2')) # check\n",
    "print(d.get('key3')) # if key not found\n",
    "\n",
    "d['key1'] = 'value3' # update\n",
    "print(d)\n",
    "\n",
    "d['key3'] = 'value4' # add\n",
    "print(d)"
   ]
  },
  {
   "cell_type": "markdown",
   "metadata": {},
   "source": [
    "## other unique datatype"
   ]
  },
  {
   "cell_type": "code",
   "execution_count": 34,
   "metadata": {
    "tags": [
     "check"
    ]
   },
   "outputs": [
    {
     "name": "stdout",
     "output_type": "stream",
     "text": [
      "range(0, 10)\n",
      "range(5, 10)\n",
      "range(5, 20, 2)\n",
      "range(20, 10, -1)\n"
     ]
    }
   ],
   "source": [
    "# range function\n",
    "\n",
    "r1 = range(10)  \n",
    "r2 = range(5,10)\n",
    "r3 = range(5,20,2)\n",
    "r4 = range(20,10,-1)\n",
    "\n",
    "print(r1)\n",
    "print(r2)\n",
    "print(r3)\n",
    "print(r4)"
   ]
  },
  {
   "cell_type": "code",
   "execution_count": 35,
   "metadata": {},
   "outputs": [
    {
     "name": "stdout",
     "output_type": "stream",
     "text": [
      "{10, 12, 13}\n"
     ]
    }
   ],
   "source": [
    "# sets\n",
    "\n",
    "s = set([10,12,12,13,10])\n",
    "print(s)"
   ]
  },
  {
   "cell_type": "markdown",
   "metadata": {},
   "source": [
    "# assiginment\n",
    "\n",
    "1. given a dataset of students(name : class) output 2 lists \n",
    " \n",
    "    1] names\n",
    "    \n",
    "    2] class\n",
    "    \n",
    "    which has no repeated class in it\n",
    "\n",
    "2. create a list which contains values of sine((6n)(PI)) where n = [1,2,3,4,5,6,.....12],\n",
    "\n",
    "    remove the numbers at even places (be carefull)(try not to use if statements),\n",
    "\n",
    "    insert the numbers which are divisible by 3 to respective places,\n",
    "\n",
    "    pop the last element and push None\n",
    "\n",
    "3. multipy different elements of list(length = 4) and [1,2,3,4] store in a tuple and assign a,b,c,d to these values\n",
    "\n",
    "4. ask user to enter numbers as string, store in list, remove all the numbers which are repeated, print output\n",
    "\n",
    "    (don't use if statements)\n",
    "\n",
    "5. (optional) for every number in a 2d list multiple all elements in column. if even store in a list\n",
    "\n",
    "\n",
    "\n",
    "note : try not to use loops and conditional statements expect for 5th question\n",
    "   ###### use datatype wisely"
   ]
  },
  {
   "cell_type": "code",
   "execution_count": null,
   "metadata": {},
   "outputs": [],
   "source": []
  }
 ],
 "metadata": {
  "kernelspec": {
   "display_name": "Python 3",
   "language": "python",
   "name": "python3"
  },
  "language_info": {
   "codemirror_mode": {
    "name": "ipython",
    "version": 3
   },
   "file_extension": ".py",
   "mimetype": "text/x-python",
   "name": "python",
   "nbconvert_exporter": "python",
   "pygments_lexer": "ipython3",
   "version": "3.7.0"
  }
 },
 "nbformat": 4,
 "nbformat_minor": 4
}
